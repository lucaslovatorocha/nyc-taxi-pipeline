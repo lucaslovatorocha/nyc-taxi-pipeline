{
 "cells": [
  {
   "cell_type": "code",
   "execution_count": 0,
   "metadata": {
    "application/vnd.databricks.v1+cell": {
     "cellMetadata": {},
     "inputWidgets": {},
     "nuid": "c4ea6e39-556f-47cd-8b84-791c3c774bf8",
     "showTitle": false,
     "tableResultSettingsMap": {},
     "title": ""
    }
   },
   "outputs": [],
   "source": [
    "# MAGIC %md\n",
    "# MAGIC # NYC Taxi Pipeline - Setup & Configuration\n",
    "# MAGIC ### Stack Tecnologias - Desafio Técnico\n",
    "# MAGIC \n",
    "# MAGIC **Objetivo**: Configuração inicial do ambiente e variáveis globais\n",
    "# MAGIC \n",
    "# MAGIC **Arquitetura**:\n",
    "# MAGIC - Databricks Workspace\n",
    "# MAGIC - Unity Catalog\n",
    "# MAGIC - Delta Lake\n",
    "# MAGIC - S3 (Bronze/Silver/Gold)\n"
   ]
  },
  {
   "cell_type": "code",
   "execution_count": 0,
   "metadata": {
    "application/vnd.databricks.v1+cell": {
     "cellMetadata": {
      "byteLimit": 2048000,
      "rowLimit": 10000
     },
     "inputWidgets": {},
     "nuid": "85950b3b-fd15-49df-83bd-8a62db939689",
     "showTitle": false,
     "tableResultSettingsMap": {},
     "title": ""
    }
   },
   "outputs": [],
   "source": [
    "# COMMAND ----------\n",
    "# Configurações Globais\n",
    "notebook_config = {\n",
    "    # S3 Paths\n",
    "    \"bronze_bucket\": \"nyc-taxi-bronze-lucas\",\n",
    "    \"silver_bucket\": \"nyc-taxi-silver-lucas\",\n",
    "    \"gold_bucket\": \"nyc-taxi-gold-lucas\",\n",
    "    \n",
    "    # Unity Catalog\n",
    "    \"catalog_name\": \"nyc_taxi_catalog\",\n",
    "    \"bronze_schema\": \"bronze\",\n",
    "    \"silver_schema\": \"silver\",\n",
    "    \"gold_schema\": \"gold\",\n",
    "    \n",
    "    # Kaggle Config\n",
    "    \"kaggle\": {\n",
    "        \"username\": \"lucaslovatodarocha\",\n",
    "        \"key\": \"\",\n",
    "        \"dataset\": \"elemento/nyc-yellow-taxi-trip-data\"\n",
    "    },\n",
    "    \n",
    "    # Schema Definition\n",
    "    \"schema\": {\n",
    "        \"bronze\": {...},  # Schema para bronze (raw)\n",
    "        \"silver\": {...},  # Schema para silver (cleaned)\n",
    "        \"gold\": {...}     # Schema para gold (aggregated)\n",
    "    }\n",
    "}\n",
    "\n",
    "# COMMAND ----------\n",
    "# Criar widget para controle de execução\n",
    "dbutils.widgets.dropdown(\"layer\", \"bronze\", [\"bronze\", \"silver\", \"gold\"])\n",
    "dbutils.widgets.text(\"year\", \"2015\")\n",
    "dbutils.widgets.text(\"month\", \"01\")"
   ]
  }
 ],
 "metadata": {
  "application/vnd.databricks.v1+notebook": {
   "computePreferences": null,
   "dashboards": [],
   "environmentMetadata": {
    "base_environment": "",
    "environment_version": "2"
   },
   "inputWidgetPreferences": null,
   "language": "python",
   "notebookMetadata": {
    "pythonIndentUnit": 4
   },
   "notebookName": "00_setup_and_configuration",
   "widgets": {
    "layer": {
     "currentValue": "bronze",
     "nuid": "d81a83ce-3dac-4489-8764-02c3db1ff346",
     "typedWidgetInfo": {
      "autoCreated": false,
      "defaultValue": "bronze",
      "label": null,
      "name": "layer",
      "options": {
       "widgetDisplayType": "Dropdown",
       "choices": [
        "bronze",
        "silver",
        "gold"
       ],
       "fixedDomain": true,
       "multiselect": false
      },
      "parameterDataType": "String"
     },
     "widgetInfo": {
      "widgetType": "dropdown",
      "defaultValue": "bronze",
      "label": null,
      "name": "layer",
      "options": {
       "widgetType": "dropdown",
       "autoCreated": null,
       "choices": [
        "bronze",
        "silver",
        "gold"
       ]
      }
     }
    },
    "month": {
     "currentValue": "01",
     "nuid": "cf0108ee-df5e-46db-86f3-8fa9d510a5ef",
     "typedWidgetInfo": {
      "autoCreated": false,
      "defaultValue": "01",
      "label": null,
      "name": "month",
      "options": {
       "widgetDisplayType": "Text",
       "validationRegex": null
      },
      "parameterDataType": "String"
     },
     "widgetInfo": {
      "widgetType": "text",
      "defaultValue": "01",
      "label": null,
      "name": "month",
      "options": {
       "widgetType": "text",
       "autoCreated": null,
       "validationRegex": null
      }
     }
    },
    "year": {
     "currentValue": "2015",
     "nuid": "299659d5-02ea-45f4-9a2d-11f7fae576e1",
     "typedWidgetInfo": {
      "autoCreated": false,
      "defaultValue": "2015",
      "label": null,
      "name": "year",
      "options": {
       "widgetDisplayType": "Text",
       "validationRegex": null
      },
      "parameterDataType": "String"
     },
     "widgetInfo": {
      "widgetType": "text",
      "defaultValue": "2015",
      "label": null,
      "name": "year",
      "options": {
       "widgetType": "text",
       "autoCreated": null,
       "validationRegex": null
      }
     }
    }
   }
  },
  "language_info": {
   "name": "python"
  }
 },
 "nbformat": 4,
 "nbformat_minor": 0
}
