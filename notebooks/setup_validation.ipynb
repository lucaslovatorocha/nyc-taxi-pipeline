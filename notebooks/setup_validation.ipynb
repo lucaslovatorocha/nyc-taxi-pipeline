{
 "cells": [
  {
   "cell_type": "code",
   "execution_count": 0,
   "metadata": {
    "application/vnd.databricks.v1+cell": {
     "cellMetadata": {
      "byteLimit": 2048000,
      "rowLimit": 10000
     },
     "inputWidgets": {},
     "nuid": "a20308d8-0bdb-4e78-9106-da0e0d21399f",
     "showTitle": false,
     "tableResultSettingsMap": {},
     "title": ""
    }
   },
   "outputs": [
    {
     "output_type": "stream",
     "name": "stdout",
     "output_type": "stream",
     "text": [
      "=== Verificando Catálogo e Schemas ===\n"
     ]
    },
    {
     "output_type": "display_data",
     "data": {
      "text/html": [
       "<style scoped>\n",
       "  .table-result-container {\n",
       "    max-height: 300px;\n",
       "    overflow: auto;\n",
       "  }\n",
       "  table, th, td {\n",
       "    border: 1px solid black;\n",
       "    border-collapse: collapse;\n",
       "  }\n",
       "  th, td {\n",
       "    padding: 5px;\n",
       "  }\n",
       "  th {\n",
       "    text-align: left;\n",
       "  }\n",
       "</style><div class='table-result-container'><table class='table-result'><thead style='background-color: white'><tr><th>catalog</th></tr></thead><tbody><tr><td>main</td></tr><tr><td>nyc_taxi_catalog</td></tr><tr><td>samples</td></tr><tr><td>system</td></tr></tbody></table></div>"
      ]
     },
     "metadata": {
      "application/vnd.databricks.v1+output": {
       "addedWidgets": {},
       "aggData": [],
       "aggError": "",
       "aggOverflow": false,
       "aggSchema": [],
       "aggSeriesLimitReached": false,
       "aggType": "",
       "arguments": {},
       "columnCustomDisplayInfos": {},
       "data": [
        [
         "main"
        ],
        [
         "nyc_taxi_catalog"
        ],
        [
         "samples"
        ],
        [
         "system"
        ]
       ],
       "datasetInfos": [],
       "dbfsResultPath": null,
       "isJsonSchema": true,
       "metadata": {},
       "overflow": false,
       "plotOptions": {
        "customPlotOptions": {},
        "displayType": "table",
        "pivotAggregation": null,
        "pivotColumns": null,
        "xColumns": null,
        "yColumns": null
       },
       "removedWidgets": [],
       "schema": [
        {
         "metadata": "{}",
         "name": "catalog",
         "type": "\"string\""
        }
       ],
       "type": "table"
      }
     },
     "output_type": "display_data"
    },
    {
     "output_type": "display_data",
     "data": {
      "text/html": [
       "<style scoped>\n",
       "  .table-result-container {\n",
       "    max-height: 300px;\n",
       "    overflow: auto;\n",
       "  }\n",
       "  table, th, td {\n",
       "    border: 1px solid black;\n",
       "    border-collapse: collapse;\n",
       "  }\n",
       "  th, td {\n",
       "    padding: 5px;\n",
       "  }\n",
       "  th {\n",
       "    text-align: left;\n",
       "  }\n",
       "</style><div class='table-result-container'><table class='table-result'><thead style='background-color: white'><tr><th>databaseName</th></tr></thead><tbody><tr><td>bronze</td></tr><tr><td>default</td></tr><tr><td>gold</td></tr><tr><td>information_schema</td></tr><tr><td>silver</td></tr></tbody></table></div>"
      ]
     },
     "metadata": {
      "application/vnd.databricks.v1+output": {
       "addedWidgets": {},
       "aggData": [],
       "aggError": "",
       "aggOverflow": false,
       "aggSchema": [],
       "aggSeriesLimitReached": false,
       "aggType": "",
       "arguments": {},
       "columnCustomDisplayInfos": {},
       "data": [
        [
         "bronze"
        ],
        [
         "default"
        ],
        [
         "gold"
        ],
        [
         "information_schema"
        ],
        [
         "silver"
        ]
       ],
       "datasetInfos": [],
       "dbfsResultPath": null,
       "isJsonSchema": true,
       "metadata": {},
       "overflow": false,
       "plotOptions": {
        "customPlotOptions": {},
        "displayType": "table",
        "pivotAggregation": null,
        "pivotColumns": null,
        "xColumns": null,
        "yColumns": null
       },
       "removedWidgets": [],
       "schema": [
        {
         "metadata": "{}",
         "name": "databaseName",
         "type": "\"string\""
        }
       ],
       "type": "table"
      }
     },
     "output_type": "display_data"
    },
    {
     "output_type": "stream",
     "name": "stdout",
     "output_type": "stream",
     "text": [
      "\n=== Verificando External Locations ===\n"
     ]
    },
    {
     "output_type": "display_data",
     "data": {
      "text/html": [
       "<style scoped>\n",
       "  .table-result-container {\n",
       "    max-height: 300px;\n",
       "    overflow: auto;\n",
       "  }\n",
       "  table, th, td {\n",
       "    border: 1px solid black;\n",
       "    border-collapse: collapse;\n",
       "  }\n",
       "  th, td {\n",
       "    padding: 5px;\n",
       "  }\n",
       "  th {\n",
       "    text-align: left;\n",
       "  }\n",
       "</style><div class='table-result-container'><table class='table-result'><thead style='background-color: white'><tr><th>name</th><th>url</th><th>comment</th></tr></thead><tbody><tr><td>bronze_location</td><td>s3://nyc-taxi-bronze-lucas/</td><td>Bronze layer - dados raw NYC Taxi</td></tr><tr><td>gold_location</td><td>s3://nyc-taxi-gold-lucas/</td><td>Gold layer - dados agregados NYC Taxi</td></tr><tr><td>metastore_root_location</td><td>s3://nyc-taxi-managed-lucaslovato/</td><td>Auto-created external location which provides access to the nominated metastore-level storage account for the metastore. Changing the URL on this external location will not update the metastore-level storage, and could break access. You can update the credential on this external location if desired.</td></tr><tr><td>silver_location</td><td>s3://nyc-taxi-silver-lucas/</td><td>Silver layer - dados limpos NYC Taxi</td></tr></tbody></table></div>"
      ]
     },
     "metadata": {
      "application/vnd.databricks.v1+output": {
       "addedWidgets": {},
       "aggData": [],
       "aggError": "",
       "aggOverflow": false,
       "aggSchema": [],
       "aggSeriesLimitReached": false,
       "aggType": "",
       "arguments": {},
       "columnCustomDisplayInfos": {},
       "data": [
        [
         "bronze_location",
         "s3://nyc-taxi-bronze-lucas/",
         "Bronze layer - dados raw NYC Taxi"
        ],
        [
         "gold_location",
         "s3://nyc-taxi-gold-lucas/",
         "Gold layer - dados agregados NYC Taxi"
        ],
        [
         "metastore_root_location",
         "s3://nyc-taxi-managed-lucaslovato/",
         "Auto-created external location which provides access to the nominated metastore-level storage account for the metastore. Changing the URL on this external location will not update the metastore-level storage, and could break access. You can update the credential on this external location if desired."
        ],
        [
         "silver_location",
         "s3://nyc-taxi-silver-lucas/",
         "Silver layer - dados limpos NYC Taxi"
        ]
       ],
       "datasetInfos": [],
       "dbfsResultPath": null,
       "isJsonSchema": true,
       "metadata": {},
       "overflow": false,
       "plotOptions": {
        "customPlotOptions": {},
        "displayType": "table",
        "pivotAggregation": null,
        "pivotColumns": null,
        "xColumns": null,
        "yColumns": null
       },
       "removedWidgets": [],
       "schema": [
        {
         "metadata": "{}",
         "name": "name",
         "type": "\"string\""
        },
        {
         "metadata": "{}",
         "name": "url",
         "type": "\"string\""
        },
        {
         "metadata": "{}",
         "name": "comment",
         "type": "\"string\""
        }
       ],
       "type": "table"
      }
     },
     "output_type": "display_data"
    },
    {
     "output_type": "stream",
     "name": "stdout",
     "output_type": "stream",
     "text": [
      "\n=== Testando Acesso aos Buckets ===\nWrote 53 bytes.\n✅ BRONZE: Teste de escrita/leitura OK\n   Conteúdo: NYC Taxi Pipeline Test - bronze - 2025-07-30 14:30:25\nWrote 53 bytes.\n✅ SILVER: Teste de escrita/leitura OK\n   Conteúdo: NYC Taxi Pipeline Test - silver - 2025-07-30 14:30:26\nWrote 51 bytes.\n✅ GOLD: Teste de escrita/leitura OK\n   Conteúdo: NYC Taxi Pipeline Test - gold - 2025-07-30 14:30:26\n\n=== Criando Tabelas de Teste ===\n✅ BRONZE: Tabela de teste criada e populada\n"
     ]
    },
    {
     "output_type": "display_data",
     "data": {
      "text/html": [
       "<style scoped>\n",
       "  .table-result-container {\n",
       "    max-height: 300px;\n",
       "    overflow: auto;\n",
       "  }\n",
       "  table, th, td {\n",
       "    border: 1px solid black;\n",
       "    border-collapse: collapse;\n",
       "  }\n",
       "  th, td {\n",
       "    padding: 5px;\n",
       "  }\n",
       "  th {\n",
       "    text-align: left;\n",
       "  }\n",
       "</style><div class='table-result-container'><table class='table-result'><thead style='background-color: white'><tr><th>id</th><th>test_date</th><th>message</th></tr></thead><tbody><tr><td>1</td><td>2025-07-30T14:29:18.719Z</td><td>Test bronze layer - 2025-07-30 14:29:17.693031</td></tr><tr><td>1</td><td>2025-07-30T14:30:28.399Z</td><td>Test bronze layer - 2025-07-30 14:30:28.085548</td></tr></tbody></table></div>"
      ]
     },
     "metadata": {
      "application/vnd.databricks.v1+output": {
       "addedWidgets": {},
       "aggData": [],
       "aggError": "",
       "aggOverflow": false,
       "aggSchema": [],
       "aggSeriesLimitReached": false,
       "aggType": "",
       "arguments": {},
       "columnCustomDisplayInfos": {},
       "data": [
        [
         1,
         "2025-07-30T14:29:18.719Z",
         "Test bronze layer - 2025-07-30 14:29:17.693031"
        ],
        [
         1,
         "2025-07-30T14:30:28.399Z",
         "Test bronze layer - 2025-07-30 14:30:28.085548"
        ]
       ],
       "datasetInfos": [],
       "dbfsResultPath": null,
       "isJsonSchema": true,
       "metadata": {},
       "overflow": false,
       "plotOptions": {
        "customPlotOptions": {},
        "displayType": "table",
        "pivotAggregation": null,
        "pivotColumns": null,
        "xColumns": null,
        "yColumns": null
       },
       "removedWidgets": [],
       "schema": [
        {
         "metadata": "{}",
         "name": "id",
         "type": "\"integer\""
        },
        {
         "metadata": "{}",
         "name": "test_date",
         "type": "\"timestamp\""
        },
        {
         "metadata": "{}",
         "name": "message",
         "type": "\"string\""
        }
       ],
       "type": "table"
      }
     },
     "output_type": "display_data"
    },
    {
     "output_type": "stream",
     "name": "stdout",
     "output_type": "stream",
     "text": [
      "✅ SILVER: Tabela de teste criada e populada\n"
     ]
    },
    {
     "output_type": "display_data",
     "data": {
      "text/html": [
       "<style scoped>\n",
       "  .table-result-container {\n",
       "    max-height: 300px;\n",
       "    overflow: auto;\n",
       "  }\n",
       "  table, th, td {\n",
       "    border: 1px solid black;\n",
       "    border-collapse: collapse;\n",
       "  }\n",
       "  th, td {\n",
       "    padding: 5px;\n",
       "  }\n",
       "  th {\n",
       "    text-align: left;\n",
       "  }\n",
       "</style><div class='table-result-container'><table class='table-result'><thead style='background-color: white'><tr><th>id</th><th>test_date</th><th>message</th></tr></thead><tbody><tr><td>1</td><td>2025-07-30T14:29:25.934Z</td><td>Test silver layer - 2025-07-30 14:29:25.481608</td></tr><tr><td>1</td><td>2025-07-30T14:30:31.245Z</td><td>Test silver layer - 2025-07-30 14:30:30.129808</td></tr></tbody></table></div>"
      ]
     },
     "metadata": {
      "application/vnd.databricks.v1+output": {
       "addedWidgets": {},
       "aggData": [],
       "aggError": "",
       "aggOverflow": false,
       "aggSchema": [],
       "aggSeriesLimitReached": false,
       "aggType": "",
       "arguments": {},
       "columnCustomDisplayInfos": {},
       "data": [
        [
         1,
         "2025-07-30T14:29:25.934Z",
         "Test silver layer - 2025-07-30 14:29:25.481608"
        ],
        [
         1,
         "2025-07-30T14:30:31.245Z",
         "Test silver layer - 2025-07-30 14:30:30.129808"
        ]
       ],
       "datasetInfos": [],
       "dbfsResultPath": null,
       "isJsonSchema": true,
       "metadata": {},
       "overflow": false,
       "plotOptions": {
        "customPlotOptions": {},
        "displayType": "table",
        "pivotAggregation": null,
        "pivotColumns": null,
        "xColumns": null,
        "yColumns": null
       },
       "removedWidgets": [],
       "schema": [
        {
         "metadata": "{}",
         "name": "id",
         "type": "\"integer\""
        },
        {
         "metadata": "{}",
         "name": "test_date",
         "type": "\"timestamp\""
        },
        {
         "metadata": "{}",
         "name": "message",
         "type": "\"string\""
        }
       ],
       "type": "table"
      }
     },
     "output_type": "display_data"
    },
    {
     "output_type": "stream",
     "name": "stdout",
     "output_type": "stream",
     "text": [
      "✅ GOLD: Tabela de teste criada e populada\n"
     ]
    },
    {
     "output_type": "display_data",
     "data": {
      "text/html": [
       "<style scoped>\n",
       "  .table-result-container {\n",
       "    max-height: 300px;\n",
       "    overflow: auto;\n",
       "  }\n",
       "  table, th, td {\n",
       "    border: 1px solid black;\n",
       "    border-collapse: collapse;\n",
       "  }\n",
       "  th, td {\n",
       "    padding: 5px;\n",
       "  }\n",
       "  th {\n",
       "    text-align: left;\n",
       "  }\n",
       "</style><div class='table-result-container'><table class='table-result'><thead style='background-color: white'><tr><th>id</th><th>test_date</th><th>message</th></tr></thead><tbody><tr><td>1</td><td>2025-07-30T14:29:28.911Z</td><td>Test gold layer - 2025-07-30 14:29:28.633297</td></tr><tr><td>1</td><td>2025-07-30T14:30:35.098Z</td><td>Test gold layer - 2025-07-30 14:30:34.762664</td></tr></tbody></table></div>"
      ]
     },
     "metadata": {
      "application/vnd.databricks.v1+output": {
       "addedWidgets": {},
       "aggData": [],
       "aggError": "",
       "aggOverflow": false,
       "aggSchema": [],
       "aggSeriesLimitReached": false,
       "aggType": "",
       "arguments": {},
       "columnCustomDisplayInfos": {},
       "data": [
        [
         1,
         "2025-07-30T14:29:28.911Z",
         "Test gold layer - 2025-07-30 14:29:28.633297"
        ],
        [
         1,
         "2025-07-30T14:30:35.098Z",
         "Test gold layer - 2025-07-30 14:30:34.762664"
        ]
       ],
       "datasetInfos": [],
       "dbfsResultPath": null,
       "isJsonSchema": true,
       "metadata": {},
       "overflow": false,
       "plotOptions": {
        "customPlotOptions": {},
        "displayType": "table",
        "pivotAggregation": null,
        "pivotColumns": null,
        "xColumns": null,
        "yColumns": null
       },
       "removedWidgets": [],
       "schema": [
        {
         "metadata": "{}",
         "name": "id",
         "type": "\"integer\""
        },
        {
         "metadata": "{}",
         "name": "test_date",
         "type": "\"timestamp\""
        },
        {
         "metadata": "{}",
         "name": "message",
         "type": "\"string\""
        }
       ],
       "type": "table"
      }
     },
     "output_type": "display_data"
    }
   ],
   "source": [
    "# COMMAND 1 - Verificar Catálogo e Schemas\n",
    "print(\"=== Verificando Catálogo e Schemas ===\")\n",
    "display(spark.sql(\"SHOW CATALOGS\"))\n",
    "spark.sql(\"USE CATALOG nyc_taxi_catalog\")\n",
    "display(spark.sql(\"SHOW SCHEMAS\"))\n",
    "\n",
    "# COMMAND 2 - Verificar External Locations\n",
    "print(\"\\n=== Verificando External Locations ===\")\n",
    "display(spark.sql(\"SHOW EXTERNAL LOCATIONS\"))\n",
    "\n",
    "# COMMAND 3 - Testar Acesso aos Buckets\n",
    "print(\"\\n=== Testando Acesso aos Buckets ===\")\n",
    "from datetime import datetime\n",
    "\n",
    "# Testar escrita/leitura em cada camada\n",
    "layers = ['bronze', 'silver', 'gold']\n",
    "for layer in layers:\n",
    "    try:\n",
    "        test_content = f\"NYC Taxi Pipeline Test - {layer} - {datetime.now().strftime('%Y-%m-%d %H:%M:%S')}\"\n",
    "        test_path = f\"s3://nyc-taxi-{layer}-lucas/test.txt\"\n",
    "        \n",
    "        dbutils.fs.put(test_path, test_content, overwrite=True)\n",
    "        \n",
    "        content = dbutils.fs.head(test_path)\n",
    "        \n",
    "        print(f\"✅ {layer.upper()}: Teste de escrita/leitura OK\")\n",
    "        print(f\"   Conteúdo: {content}\")\n",
    "    except Exception as e:\n",
    "        print(f\"❌ {layer.upper()}: Erro - {str(e)}\")\n",
    "\n",
    "# COMMAND 4 - Criar Tabelas de Teste\n",
    "print(\"\\n=== Criando Tabelas de Teste ===\")\n",
    "for layer in layers:\n",
    "    retries = 3\n",
    "    for attempt in range(retries):\n",
    "        try:\n",
    "            spark.sql(f\"\"\"\n",
    "            CREATE TABLE IF NOT EXISTS nyc_taxi_catalog.{layer}.test (\n",
    "                id INT,\n",
    "                test_date TIMESTAMP,\n",
    "                message STRING\n",
    "            )\n",
    "            LOCATION 's3://nyc-taxi-{layer}-lucas/test/'\n",
    "            \"\"\")\n",
    "            \n",
    "            spark.sql(f\"\"\"\n",
    "            INSERT INTO nyc_taxi_catalog.{layer}.test\n",
    "            VALUES (1, current_timestamp(), 'Test {layer} layer - {datetime.now()}') -- Commented out to prevent long execution times\n",
    "            \"\"\")\n",
    "            \n",
    "            print(f\"✅ {layer.upper()}: Tabela de teste criada e populada\")\n",
    "            \n",
    "            display(spark.sql(f\"SELECT * FROM nyc_taxi_catalog.{layer}.test\"))\n",
    "            break\n",
    "        except Exception as e:\n",
    "            if attempt < retries - 1:\n",
    "                print(f\"❌ {layer.upper()}: Erro - {str(e)}. Retrying...\")\n",
    "            else:\n",
    "                print(f\"❌ {layer.upper()}: Erro - {str(e)}. Exceeded maximum retries.\")"
   ]
  }
 ],
 "metadata": {
  "application/vnd.databricks.v1+notebook": {
   "computePreferences": null,
   "dashboards": [],
   "environmentMetadata": {
    "base_environment": "",
    "environment_version": "2"
   },
   "inputWidgetPreferences": null,
   "language": "python",
   "notebookMetadata": {
    "pythonIndentUnit": 4
   },
   "notebookName": "setup_validation",
   "widgets": {}
  },
  "language_info": {
   "name": "python"
  }
 },
 "nbformat": 4,
 "nbformat_minor": 0
}