{
 "cells": [
  {
   "cell_type": "code",
   "execution_count": 0,
   "metadata": {
    "application/vnd.databricks.v1+cell": {
     "cellMetadata": {
      "byteLimit": 2048000,
      "rowLimit": 10000
     },
     "inputWidgets": {},
     "nuid": "8c179369-736f-409c-bf66-98814cdad9ff",
     "showTitle": false,
     "tableResultSettingsMap": {},
     "title": ""
    }
   },
   "outputs": [],
   "source": [
    "# MAGIC %md\n",
    "# MAGIC # NYC Taxi Data - Exploratory Data Analysis\n",
    "# MAGIC ### Stack Tecnologias - Desafio Técnico\n",
    "# MAGIC \n",
    "# MAGIC **Objetivos:**\n",
    "# MAGIC 1. Análise da estrutura dos dados\n",
    "# MAGIC 2. Identificação de problemas de qualidade\n",
    "# MAGIC 3. Definição de schema para Silver/Gold"
   ]
  },
  {
   "cell_type": "code",
   "execution_count": 0,
   "metadata": {
    "application/vnd.databricks.v1+cell": {
     "cellMetadata": {
      "byteLimit": 2048000,
      "rowLimit": 10000
     },
     "inputWidgets": {},
     "nuid": "2931b1a4-f3ca-4423-919a-6f1bc5395dfb",
     "showTitle": false,
     "tableResultSettingsMap": {},
     "title": ""
    }
   },
   "outputs": [
    {
     "output_type": "stream",
     "name": "stdout",
     "output_type": "stream",
     "text": [
      "root\n |-- VendorID: string (nullable = true)\n |-- tpep_pickup_datetime: string (nullable = true)\n |-- tpep_dropoff_datetime: string (nullable = true)\n |-- passenger_count: string (nullable = true)\n |-- trip_distance: string (nullable = true)\n |-- pickup_longitude: string (nullable = true)\n |-- pickup_latitude: string (nullable = true)\n |-- RateCodeID: string (nullable = true)\n |-- store_and_fwd_flag: string (nullable = true)\n |-- dropoff_longitude: string (nullable = true)\n |-- dropoff_latitude: string (nullable = true)\n |-- payment_type: string (nullable = true)\n |-- fare_amount: string (nullable = true)\n |-- extra: string (nullable = true)\n |-- mta_tax: string (nullable = true)\n |-- tip_amount: string (nullable = true)\n |-- tolls_amount: string (nullable = true)\n |-- improvement_surcharge: string (nullable = true)\n |-- total_amount: string (nullable = true)\n\n"
     ]
    },
    {
     "output_type": "display_data",
     "data": {
      "text/html": [
       "<style scoped>\n",
       "  .table-result-container {\n",
       "    max-height: 300px;\n",
       "    overflow: auto;\n",
       "  }\n",
       "  table, th, td {\n",
       "    border: 1px solid black;\n",
       "    border-collapse: collapse;\n",
       "  }\n",
       "  th, td {\n",
       "    padding: 5px;\n",
       "  }\n",
       "  th {\n",
       "    text-align: left;\n",
       "  }\n",
       "</style><div class='table-result-container'><table class='table-result'><thead style='background-color: white'><tr><th>summary</th><th>VendorID</th><th>tpep_pickup_datetime</th><th>tpep_dropoff_datetime</th><th>passenger_count</th><th>trip_distance</th><th>pickup_longitude</th><th>pickup_latitude</th><th>RateCodeID</th><th>store_and_fwd_flag</th><th>dropoff_longitude</th><th>dropoff_latitude</th><th>payment_type</th><th>fare_amount</th><th>extra</th><th>mta_tax</th><th>tip_amount</th><th>tolls_amount</th><th>improvement_surcharge</th><th>total_amount</th></tr></thead><tbody><tr><td>count</td><td>47248845</td><td>47248845</td><td>47248845</td><td>47248845</td><td>47248845</td><td>47248845</td><td>47248845</td><td>47248845</td><td>47248845</td><td>47248845</td><td>47248845</td><td>47248845</td><td>47248845</td><td>47248845</td><td>47248845</td><td>47248845</td><td>47248845</td><td>47248842</td><td>47248845</td></tr><tr><td>mean</td><td>1.529570490029968</td><td>null</td><td>null</td><td>1.6670397339871483</td><td>7.508417945877826</td><td>-72.7645182845853</td><td>40.084704988038204</td><td>1.0385429739076162</td><td>null</td><td>-72.82501122353683</td><td>40.118890625916094</td><td>1.352482394014076</td><td>12.392189114675714</td><td>0.32431795549711323</td><td>0.4977080728640033</td><td>1.7945680860558584</td><td>0.2843674354367812</td><td>0.29524661726098905</td><td>15.592732594204715</td></tr><tr><td>stddev</td><td>0.49912482546154296</td><td>null</td><td>null</td><td>1.3220922307333787</td><td>6487.658339592048</td><td>9.381829927913058</td><td>5.168527613321488</td><td>0.5902423267122126</td><td>null</td><td>9.150215403289167</td><td>5.040345298485914</td><td>0.49223868794940884</td><td>78.61770040483974</td><td>0.5158948172922766</td><td>0.04672387982925275</td><td>574.738388499466</td><td>1.657184394696857</td><td>0.038120798701722115</td><td>580.1392733880582</td></tr><tr><td>min</td><td>1</td><td>2015-01-01 00:00:00</td><td>2015-01-01 00:00:00</td><td>0</td><td>-3390583.80</td><td>-0.13990700244903564</td><td>-18.679283142089844</td><td>1</td><td>N</td><td>-0.1166670024394989</td><td>-77.03948974609375</td><td>1</td><td>-0.01</td><td>-0.09</td><td>-0.5</td><td>-0.01</td><td>-0.1</td><td>-0.3</td><td>-0.31</td></tr><tr><td>max</td><td>2</td><td>2016-03-31 23:59:59</td><td>2016-06-29 15:58:16</td><td>9</td><td>99.90</td><td>94.643867492675781</td><td>9.5878467559814453</td><td>99</td><td>Y</td><td>85.274024963378906</td><td>9.9809532165527344</td><td>5</td><td>999.99</td><td>999.99</td><td>89.7</td><td>998.14</td><td>999.99</td><td>0.3</td><td>999.84</td></tr></tbody></table></div>"
      ]
     },
     "metadata": {
      "application/vnd.databricks.v1+output": {
       "addedWidgets": {},
       "aggData": [],
       "aggError": "",
       "aggOverflow": false,
       "aggSchema": [],
       "aggSeriesLimitReached": false,
       "aggType": "",
       "arguments": {},
       "columnCustomDisplayInfos": {},
       "data": [
        [
         "count",
         "47248845",
         "47248845",
         "47248845",
         "47248845",
         "47248845",
         "47248845",
         "47248845",
         "47248845",
         "47248845",
         "47248845",
         "47248845",
         "47248845",
         "47248845",
         "47248845",
         "47248845",
         "47248845",
         "47248845",
         "47248842",
         "47248845"
        ],
        [
         "mean",
         "1.529570490029968",
         null,
         null,
         "1.6670397339871483",
         "7.508417945877826",
         "-72.7645182845853",
         "40.084704988038204",
         "1.0385429739076162",
         null,
         "-72.82501122353683",
         "40.118890625916094",
         "1.352482394014076",
         "12.392189114675714",
         "0.32431795549711323",
         "0.4977080728640033",
         "1.7945680860558584",
         "0.2843674354367812",
         "0.29524661726098905",
         "15.592732594204715"
        ],
        [
         "stddev",
         "0.49912482546154296",
         null,
         null,
         "1.3220922307333787",
         "6487.658339592048",
         "9.381829927913058",
         "5.168527613321488",
         "0.5902423267122126",
         null,
         "9.150215403289167",
         "5.040345298485914",
         "0.49223868794940884",
         "78.61770040483974",
         "0.5158948172922766",
         "0.04672387982925275",
         "574.738388499466",
         "1.657184394696857",
         "0.038120798701722115",
         "580.1392733880582"
        ],
        [
         "min",
         "1",
         "2015-01-01 00:00:00",
         "2015-01-01 00:00:00",
         "0",
         "-3390583.80",
         "-0.13990700244903564",
         "-18.679283142089844",
         "1",
         "N",
         "-0.1166670024394989",
         "-77.03948974609375",
         "1",
         "-0.01",
         "-0.09",
         "-0.5",
         "-0.01",
         "-0.1",
         "-0.3",
         "-0.31"
        ],
        [
         "max",
         "2",
         "2016-03-31 23:59:59",
         "2016-06-29 15:58:16",
         "9",
         "99.90",
         "94.643867492675781",
         "9.5878467559814453",
         "99",
         "Y",
         "85.274024963378906",
         "9.9809532165527344",
         "5",
         "999.99",
         "999.99",
         "89.7",
         "998.14",
         "999.99",
         "0.3",
         "999.84"
        ]
       ],
       "datasetInfos": [],
       "dbfsResultPath": null,
       "isJsonSchema": true,
       "metadata": {},
       "overflow": false,
       "plotOptions": {
        "customPlotOptions": {},
        "displayType": "table",
        "pivotAggregation": null,
        "pivotColumns": null,
        "xColumns": null,
        "yColumns": null
       },
       "removedWidgets": [],
       "schema": [
        {
         "metadata": "{}",
         "name": "summary",
         "type": "\"string\""
        },
        {
         "metadata": "{}",
         "name": "VendorID",
         "type": "\"string\""
        },
        {
         "metadata": "{}",
         "name": "tpep_pickup_datetime",
         "type": "\"string\""
        },
        {
         "metadata": "{}",
         "name": "tpep_dropoff_datetime",
         "type": "\"string\""
        },
        {
         "metadata": "{}",
         "name": "passenger_count",
         "type": "\"string\""
        },
        {
         "metadata": "{}",
         "name": "trip_distance",
         "type": "\"string\""
        },
        {
         "metadata": "{}",
         "name": "pickup_longitude",
         "type": "\"string\""
        },
        {
         "metadata": "{}",
         "name": "pickup_latitude",
         "type": "\"string\""
        },
        {
         "metadata": "{}",
         "name": "RateCodeID",
         "type": "\"string\""
        },
        {
         "metadata": "{}",
         "name": "store_and_fwd_flag",
         "type": "\"string\""
        },
        {
         "metadata": "{}",
         "name": "dropoff_longitude",
         "type": "\"string\""
        },
        {
         "metadata": "{}",
         "name": "dropoff_latitude",
         "type": "\"string\""
        },
        {
         "metadata": "{}",
         "name": "payment_type",
         "type": "\"string\""
        },
        {
         "metadata": "{}",
         "name": "fare_amount",
         "type": "\"string\""
        },
        {
         "metadata": "{}",
         "name": "extra",
         "type": "\"string\""
        },
        {
         "metadata": "{}",
         "name": "mta_tax",
         "type": "\"string\""
        },
        {
         "metadata": "{}",
         "name": "tip_amount",
         "type": "\"string\""
        },
        {
         "metadata": "{}",
         "name": "tolls_amount",
         "type": "\"string\""
        },
        {
         "metadata": "{}",
         "name": "improvement_surcharge",
         "type": "\"string\""
        },
        {
         "metadata": "{}",
         "name": "total_amount",
         "type": "\"string\""
        }
       ],
       "type": "table"
      }
     },
     "output_type": "display_data"
    }
   ],
   "source": [
    "bronze_path = \"s3://nyc-taxi-bronze-lucas/raw/\"\n",
    "\n",
    "df = spark.read.format(\"csv\")\\\n",
    "    .option(\"header\", \"true\")\\\n",
    "    .option(\"inferSchema\", \"true\")\\\n",
    "    .load(bronze_path)\n",
    "\n",
    "# Análise inicial\n",
    "display(df.printSchema())\n",
    "display(df.describe())"
   ]
  },
  {
   "cell_type": "code",
   "execution_count": 0,
   "metadata": {
    "application/vnd.databricks.v1+cell": {
     "cellMetadata": {
      "byteLimit": 2048000,
      "rowLimit": 10000
     },
     "inputWidgets": {},
     "nuid": "ce4a2b32-d13d-4476-883c-8c467561f302",
     "showTitle": false,
     "tableResultSettingsMap": {},
     "title": ""
    }
   },
   "outputs": [],
   "source": [
    "# MAGIC %md\n",
    "# MAGIC # NYC Taxi Data - Exploratory Data Analysis\n",
    "# MAGIC ### Stack Tecnologias - Desafio Técnico"
   ]
  },
  {
   "cell_type": "code",
   "execution_count": 0,
   "metadata": {
    "application/vnd.databricks.v1+cell": {
     "cellMetadata": {
      "byteLimit": 2048000,
      "rowLimit": 10000
     },
     "inputWidgets": {},
     "nuid": "20174f86-24b5-410a-9947-7b6b6d143fc8",
     "showTitle": false,
     "tableResultSettingsMap": {},
     "title": ""
    }
   },
   "outputs": [
    {
     "output_type": "display_data",
     "data": {
      "text/html": [
       "<style scoped>\n",
       "  .table-result-container {\n",
       "    max-height: 300px;\n",
       "    overflow: auto;\n",
       "  }\n",
       "  table, th, td {\n",
       "    border: 1px solid black;\n",
       "    border-collapse: collapse;\n",
       "  }\n",
       "  th, td {\n",
       "    padding: 5px;\n",
       "  }\n",
       "  th {\n",
       "    text-align: left;\n",
       "  }\n",
       "</style><div class='table-result-container'><table class='table-result'><thead style='background-color: white'><tr><th>VendorID</th><th>tpep_pickup_datetime</th><th>tpep_dropoff_datetime</th><th>passenger_count</th><th>trip_distance</th><th>pickup_longitude</th><th>pickup_latitude</th><th>RateCodeID</th><th>store_and_fwd_flag</th><th>dropoff_longitude</th><th>dropoff_latitude</th><th>payment_type</th><th>fare_amount</th><th>extra</th><th>mta_tax</th><th>tip_amount</th><th>tolls_amount</th><th>improvement_surcharge</th><th>total_amount</th></tr></thead><tbody><tr><td>0</td><td>0</td><td>0</td><td>0</td><td>0</td><td>0</td><td>0</td><td>0</td><td>0</td><td>0</td><td>0</td><td>0</td><td>0</td><td>0</td><td>0</td><td>0</td><td>0</td><td>3</td><td>0</td></tr></tbody></table></div>"
      ]
     },
     "metadata": {
      "application/vnd.databricks.v1+output": {
       "addedWidgets": {},
       "aggData": [],
       "aggError": "",
       "aggOverflow": false,
       "aggSchema": [],
       "aggSeriesLimitReached": false,
       "aggType": "",
       "arguments": {},
       "columnCustomDisplayInfos": {},
       "data": [
        [
         0,
         0,
         0,
         0,
         0,
         0,
         0,
         0,
         0,
         0,
         0,
         0,
         0,
         0,
         0,
         0,
         0,
         3,
         0
        ]
       ],
       "datasetInfos": [],
       "dbfsResultPath": null,
       "isJsonSchema": true,
       "metadata": {},
       "overflow": false,
       "plotOptions": {
        "customPlotOptions": {},
        "displayType": "table",
        "pivotAggregation": null,
        "pivotColumns": null,
        "xColumns": null,
        "yColumns": null
       },
       "removedWidgets": [],
       "schema": [
        {
         "metadata": "{}",
         "name": "VendorID",
         "type": "\"long\""
        },
        {
         "metadata": "{}",
         "name": "tpep_pickup_datetime",
         "type": "\"long\""
        },
        {
         "metadata": "{}",
         "name": "tpep_dropoff_datetime",
         "type": "\"long\""
        },
        {
         "metadata": "{}",
         "name": "passenger_count",
         "type": "\"long\""
        },
        {
         "metadata": "{}",
         "name": "trip_distance",
         "type": "\"long\""
        },
        {
         "metadata": "{}",
         "name": "pickup_longitude",
         "type": "\"long\""
        },
        {
         "metadata": "{}",
         "name": "pickup_latitude",
         "type": "\"long\""
        },
        {
         "metadata": "{}",
         "name": "RateCodeID",
         "type": "\"long\""
        },
        {
         "metadata": "{}",
         "name": "store_and_fwd_flag",
         "type": "\"long\""
        },
        {
         "metadata": "{}",
         "name": "dropoff_longitude",
         "type": "\"long\""
        },
        {
         "metadata": "{}",
         "name": "dropoff_latitude",
         "type": "\"long\""
        },
        {
         "metadata": "{}",
         "name": "payment_type",
         "type": "\"long\""
        },
        {
         "metadata": "{}",
         "name": "fare_amount",
         "type": "\"long\""
        },
        {
         "metadata": "{}",
         "name": "extra",
         "type": "\"long\""
        },
        {
         "metadata": "{}",
         "name": "mta_tax",
         "type": "\"long\""
        },
        {
         "metadata": "{}",
         "name": "tip_amount",
         "type": "\"long\""
        },
        {
         "metadata": "{}",
         "name": "tolls_amount",
         "type": "\"long\""
        },
        {
         "metadata": "{}",
         "name": "improvement_surcharge",
         "type": "\"long\""
        },
        {
         "metadata": "{}",
         "name": "total_amount",
         "type": "\"long\""
        }
       ],
       "type": "table"
      }
     },
     "output_type": "display_data"
    },
    {
     "output_type": "stream",
     "name": "stdout",
     "output_type": "stream",
     "text": [
      "\nEstatísticas para passenger_count:\n+-------+------------------+\n|summary|   passenger_count|\n+-------+------------------+\n|  count|          47248845|\n|   mean|1.6670397339871483|\n| stddev|1.3220922307333787|\n|    min|                 0|\n|    25%|                 1|\n|    50%|                 1|\n|    75%|                 2|\n|    max|                 9|\n+-------+------------------+\n\n\nEstatísticas para trip_distance:\n+-------+-----------------+\n|summary|    trip_distance|\n+-------+-----------------+\n|  count|         47248845|\n|   mean|7.508417945877779|\n| stddev|6487.658339592048|\n|    min|       -3390583.8|\n|    25%|              1.0|\n|    50%|             1.69|\n|    75%|              3.1|\n|    max|     1.90726288E7|\n+-------+-----------------+\n\n\nEstatísticas para fare_amount:\n+-------+------------------+\n|summary|       fare_amount|\n+-------+------------------+\n|  count|          47248845|\n|   mean|12.392189114675682|\n| stddev| 78.61770040483972|\n|    min|            -957.6|\n|    25%|               6.5|\n|    50%|               9.0|\n|    75%|              14.0|\n|    max|         429496.72|\n+-------+------------------+\n\n\nEstatísticas para total_amount:\n+-------+------------------+\n|summary|      total_amount|\n+-------+------------------+\n|  count|          47248845|\n|   mean|15.592732594300239|\n| stddev| 580.1392733880582|\n|    min|            -958.4|\n|    25%|               8.3|\n|    50%|              11.6|\n|    75%|             17.15|\n|    max|         3950611.6|\n+-------+------------------+\n\n"
     ]
    },
    {
     "output_type": "display_data",
     "data": {
      "text/html": [
       "<style scoped>\n",
       "  .table-result-container {\n",
       "    max-height: 300px;\n",
       "    overflow: auto;\n",
       "  }\n",
       "  table, th, td {\n",
       "    border: 1px solid black;\n",
       "    border-collapse: collapse;\n",
       "  }\n",
       "  th, td {\n",
       "    padding: 5px;\n",
       "  }\n",
       "  th {\n",
       "    text-align: left;\n",
       "  }\n",
       "</style><div class='table-result-container'><table class='table-result'><thead style='background-color: white'><tr><th>invalid_pickup_coords</th><th>invalid_dropoff_coords</th></tr></thead><tbody><tr><td>777002</td><td>745966</td></tr></tbody></table></div>"
      ]
     },
     "metadata": {
      "application/vnd.databricks.v1+output": {
       "addedWidgets": {},
       "aggData": [],
       "aggError": "",
       "aggOverflow": false,
       "aggSchema": [],
       "aggSeriesLimitReached": false,
       "aggType": "",
       "arguments": {},
       "columnCustomDisplayInfos": {},
       "data": [
        [
         777002,
         745966
        ]
       ],
       "datasetInfos": [],
       "dbfsResultPath": null,
       "isJsonSchema": true,
       "metadata": {},
       "overflow": false,
       "plotOptions": {
        "customPlotOptions": {},
        "displayType": "table",
        "pivotAggregation": null,
        "pivotColumns": null,
        "xColumns": null,
        "yColumns": null
       },
       "removedWidgets": [],
       "schema": [
        {
         "metadata": "{}",
         "name": "invalid_pickup_coords",
         "type": "\"long\""
        },
        {
         "metadata": "{}",
         "name": "invalid_dropoff_coords",
         "type": "\"long\""
        }
       ],
       "type": "table"
      }
     },
     "output_type": "display_data"
    },
    {
     "output_type": "display_data",
     "data": {
      "text/html": [
       "<style scoped>\n",
       "  .table-result-container {\n",
       "    max-height: 300px;\n",
       "    overflow: auto;\n",
       "  }\n",
       "  table, th, td {\n",
       "    border: 1px solid black;\n",
       "    border-collapse: collapse;\n",
       "  }\n",
       "  th, td {\n",
       "    padding: 5px;\n",
       "  }\n",
       "  th {\n",
       "    text-align: left;\n",
       "  }\n",
       "</style><div class='table-result-container'><table class='table-result'><thead style='background-color: white'><tr><th>negative_duration</th><th>duration_over_24h</th></tr></thead><tbody><tr><td>473</td><td>165</td></tr></tbody></table></div>"
      ]
     },
     "metadata": {
      "application/vnd.databricks.v1+output": {
       "addedWidgets": {},
       "aggData": [],
       "aggError": "",
       "aggOverflow": false,
       "aggSchema": [],
       "aggSeriesLimitReached": false,
       "aggType": "",
       "arguments": {},
       "columnCustomDisplayInfos": {},
       "data": [
        [
         473,
         165
        ]
       ],
       "datasetInfos": [],
       "dbfsResultPath": null,
       "isJsonSchema": true,
       "metadata": {},
       "overflow": false,
       "plotOptions": {
        "customPlotOptions": {},
        "displayType": "table",
        "pivotAggregation": null,
        "pivotColumns": null,
        "xColumns": null,
        "yColumns": null
       },
       "removedWidgets": [],
       "schema": [
        {
         "metadata": "{}",
         "name": "negative_duration",
         "type": "\"long\""
        },
        {
         "metadata": "{}",
         "name": "duration_over_24h",
         "type": "\"long\""
        }
       ],
       "type": "table"
      }
     },
     "output_type": "display_data"
    },
    {
     "output_type": "display_data",
     "data": {
      "text/html": [
       "<style scoped>\n",
       "  .table-result-container {\n",
       "    max-height: 300px;\n",
       "    overflow: auto;\n",
       "  }\n",
       "  table, th, td {\n",
       "    border: 1px solid black;\n",
       "    border-collapse: collapse;\n",
       "  }\n",
       "  th, td {\n",
       "    padding: 5px;\n",
       "  }\n",
       "  th {\n",
       "    text-align: left;\n",
       "  }\n",
       "</style><div class='table-result-container'><table class='table-result'><thead style='background-color: white'><tr><th>payment_type</th><th>count</th></tr></thead><tbody><tr><td>1</td><td>30870614</td></tr><tr><td>2</td><td>16158086</td></tr><tr><td>3</td><td>164138</td></tr><tr><td>4</td><td>56004</td></tr><tr><td>5</td><td>3</td></tr></tbody></table></div>"
      ]
     },
     "metadata": {
      "application/vnd.databricks.v1+output": {
       "addedWidgets": {},
       "aggData": [],
       "aggError": "",
       "aggOverflow": false,
       "aggSchema": [],
       "aggSeriesLimitReached": false,
       "aggType": "",
       "arguments": {},
       "columnCustomDisplayInfos": {},
       "data": [
        [
         1,
         30870614
        ],
        [
         2,
         16158086
        ],
        [
         3,
         164138
        ],
        [
         4,
         56004
        ],
        [
         5,
         3
        ]
       ],
       "datasetInfos": [],
       "dbfsResultPath": null,
       "isJsonSchema": true,
       "metadata": {},
       "overflow": false,
       "plotOptions": {
        "customPlotOptions": {},
        "displayType": "table",
        "pivotAggregation": null,
        "pivotColumns": null,
        "xColumns": null,
        "yColumns": null
       },
       "removedWidgets": [],
       "schema": [
        {
         "metadata": "{}",
         "name": "payment_type",
         "type": "\"integer\""
        },
        {
         "metadata": "{}",
         "name": "count",
         "type": "\"long\""
        }
       ],
       "type": "table"
      }
     },
     "output_type": "display_data"
    },
    {
     "output_type": "display_data",
     "data": {
      "text/html": [
       "<style scoped>\n",
       "  .table-result-container {\n",
       "    max-height: 300px;\n",
       "    overflow: auto;\n",
       "  }\n",
       "  table, th, td {\n",
       "    border: 1px solid black;\n",
       "    border-collapse: collapse;\n",
       "  }\n",
       "  th, td {\n",
       "    padding: 5px;\n",
       "  }\n",
       "  th {\n",
       "    text-align: left;\n",
       "  }\n",
       "</style><div class='table-result-container'><table class='table-result'><thead style='background-color: white'><tr><th>negative_fare</th><th>total_less_than_fare</th></tr></thead><tbody><tr><td>17153</td><td>17194</td></tr></tbody></table></div>"
      ]
     },
     "metadata": {
      "application/vnd.databricks.v1+output": {
       "addedWidgets": {},
       "aggData": [],
       "aggError": "",
       "aggOverflow": false,
       "aggSchema": [],
       "aggSeriesLimitReached": false,
       "aggType": "",
       "arguments": {},
       "columnCustomDisplayInfos": {},
       "data": [
        [
         17153,
         17194
        ]
       ],
       "datasetInfos": [],
       "dbfsResultPath": null,
       "isJsonSchema": true,
       "metadata": {},
       "overflow": false,
       "plotOptions": {
        "customPlotOptions": {},
        "displayType": "table",
        "pivotAggregation": null,
        "pivotColumns": null,
        "xColumns": null,
        "yColumns": null
       },
       "removedWidgets": [],
       "schema": [
        {
         "metadata": "{}",
         "name": "negative_fare",
         "type": "\"long\""
        },
        {
         "metadata": "{}",
         "name": "total_less_than_fare",
         "type": "\"long\""
        }
       ],
       "type": "table"
      }
     },
     "output_type": "display_data"
    }
   ],
   "source": [
    "# COMMAND ----------\n",
    "from pyspark.sql.functions import col, count, when, isnan, to_timestamp, cast, unix_timestamp\n",
    "from pyspark.sql.types import DoubleType, IntegerType\n",
    "\n",
    "# Ler dados da camada Bronze\n",
    "bronze_path = \"s3://nyc-taxi-bronze-lucas/raw/\"\n",
    "\n",
    "df = spark.read.format(\"csv\")\\\n",
    "    .option(\"header\", \"true\")\\\n",
    "    .load(bronze_path)\n",
    "\n",
    "# COMMAND ----------\n",
    "# 1. Análise de Valores Nulos e Vazios\n",
    "null_counts = df.select([\n",
    "    count(when(\n",
    "        (col(c).isNull()) | \n",
    "        (col(c) == \"\") | \n",
    "        (col(c) == \"NULL\") | \n",
    "        (col(c) == \"null\"), \n",
    "        True)\n",
    "    ).alias(c) for c in df.columns\n",
    "])\n",
    "display(null_counts)\n",
    "\n",
    "# COMMAND ----------\n",
    "# 2. Converter tipos para análise\n",
    "df_typed = df.select(\n",
    "    # IDs e Flags\n",
    "    col(\"VendorID\").cast(IntegerType()).alias(\"vendor_id\"),\n",
    "    col(\"RateCodeID\").cast(IntegerType()).alias(\"rate_code_id\"),\n",
    "    col(\"store_and_fwd_flag\"),\n",
    "    col(\"payment_type\").cast(IntegerType()),\n",
    "    \n",
    "    # Timestamps\n",
    "    to_timestamp(col(\"tpep_pickup_datetime\")).alias(\"pickup_datetime\"),\n",
    "    to_timestamp(col(\"tpep_dropoff_datetime\")).alias(\"dropoff_datetime\"),\n",
    "    \n",
    "    # Números\n",
    "    col(\"passenger_count\").cast(IntegerType()),\n",
    "    col(\"trip_distance\").cast(DoubleType()),\n",
    "    \n",
    "    # Coordenadas\n",
    "    col(\"pickup_longitude\").cast(DoubleType()),\n",
    "    col(\"pickup_latitude\").cast(DoubleType()),\n",
    "    col(\"dropoff_longitude\").cast(DoubleType()),\n",
    "    col(\"dropoff_latitude\").cast(DoubleType()),\n",
    "    \n",
    "    # Valores Monetários\n",
    "    col(\"fare_amount\").cast(DoubleType()),\n",
    "    col(\"extra\").cast(DoubleType()),\n",
    "    col(\"mta_tax\").cast(DoubleType()),\n",
    "    col(\"tip_amount\").cast(DoubleType()),\n",
    "    col(\"tolls_amount\").cast(DoubleType()),\n",
    "    col(\"improvement_surcharge\").cast(DoubleType()),\n",
    "    col(\"total_amount\").cast(DoubleType())\n",
    ")\n",
    "\n",
    "# COMMAND ----------\n",
    "# 3. Análise de Distribuição - Campos Numéricos\n",
    "numeric_cols = [\"passenger_count\", \"trip_distance\", \"fare_amount\", \"total_amount\"]\n",
    "\n",
    "for col_name in numeric_cols:\n",
    "    print(f\"\\nEstatísticas para {col_name}:\")\n",
    "    df_typed.select(col_name).summary(\"count\", \"mean\", \"stddev\", \"min\", \"25%\", \"50%\", \"75%\", \"max\").show()\n",
    "\n",
    "# COMMAND ----------\n",
    "# 4. Validação de Coordenadas\n",
    "nyc_coord_check = df_typed.select(\n",
    "    count(when(\n",
    "        (col(\"pickup_longitude\").cast(DoubleType()) < -74.5) | \n",
    "        (col(\"pickup_longitude\").cast(DoubleType()) > -73.5) |\n",
    "        (col(\"pickup_latitude\").cast(DoubleType()) < 40.5) |\n",
    "        (col(\"pickup_latitude\").cast(DoubleType()) > 41.0), \n",
    "        True)\n",
    "    ).alias(\"invalid_pickup_coords\"),\n",
    "    \n",
    "    count(when(\n",
    "        (col(\"dropoff_longitude\").cast(DoubleType()) < -74.5) |\n",
    "        (col(\"dropoff_longitude\").cast(DoubleType()) > -73.5) |\n",
    "        (col(\"dropoff_latitude\").cast(DoubleType()) < 40.5) |\n",
    "        (col(\"dropoff_latitude\").cast(DoubleType()) > 41.0),\n",
    "        True)\n",
    "    ).alias(\"invalid_dropoff_coords\")\n",
    ")\n",
    "display(nyc_coord_check)\n",
    "\n",
    "# COMMAND ----------\n",
    "# 5. Análise de Consistência Temporal\n",
    "time_issues = df_typed.select(\n",
    "    count(when(col(\"dropoff_datetime\") < col(\"pickup_datetime\"), True))\n",
    "    .alias(\"negative_duration\"),\n",
    "    \n",
    "    count(when(\n",
    "        (col(\"dropoff_datetime\") > col(\"pickup_datetime\")) & \n",
    "        ((unix_timestamp(col(\"dropoff_datetime\")) - unix_timestamp(col(\"pickup_datetime\"))) > 86400),\n",
    "        True)\n",
    "    ).alias(\"duration_over_24h\")\n",
    ")\n",
    "display(time_issues)\n",
    "\n",
    "# COMMAND ----------\n",
    "# 6. Análise de Valores de Pagamento\n",
    "payment_analysis = df_typed.groupBy(\"payment_type\").count().orderBy(\"payment_type\")\n",
    "display(payment_analysis)\n",
    "\n",
    "fare_issues = df_typed.select(\n",
    "    count(when(col(\"fare_amount\") < 0, True)).alias(\"negative_fare\"),\n",
    "    count(when(col(\"total_amount\") < col(\"fare_amount\"), True)).alias(\"total_less_than_fare\")\n",
    ")\n",
    "display(fare_issues)\n",
    "\n",
    "# COMMAND ----------\n",
    "# MAGIC %md\n",
    "# MAGIC ## Sumário dos Problemas de Qualidade Encontrados\n",
    "# MAGIC \n",
    "# MAGIC 1. **Valores Nulos/Vazios:**\n",
    "# MAGIC    - Quantidade por coluna mostrada acima\n",
    "# MAGIC \n",
    "# MAGIC 2. **Problemas de Coordenadas:**\n",
    "# MAGIC    - Coordenadas fora do range de NYC\n",
    "# MAGIC    - Possíveis trocas entre latitude e longitude\n",
    "# MAGIC \n",
    "# MAGIC 3. **Problemas Temporais:**\n",
    "# MAGIC    - Viagens com duração negativa\n",
    "# MAGIC    - Viagens muito longas (> 24h)\n",
    "# MAGIC \n",
    "# MAGIC 4. **Problemas de Valores:**\n",
    "# MAGIC    - Valores negativos em campos monetários\n",
    "# MAGIC    - Total menor que tarifa base\n",
    "# MAGIC    - Valores zerados"
   ]
  },
  {
   "cell_type": "code",
   "execution_count": 0,
   "metadata": {
    "application/vnd.databricks.v1+cell": {
     "cellMetadata": {
      "byteLimit": 2048000,
      "rowLimit": 10000
     },
     "inputWidgets": {},
     "nuid": "adab69e8-5bb7-483a-8c09-816aef380db7",
     "showTitle": false,
     "tableResultSettingsMap": {},
     "title": ""
    }
   },
   "outputs": [],
   "source": [
    "# MAGIC %md\n",
    "# MAGIC ## 2. Análise de Qualidade dos Dados\n",
    "# MAGIC \n",
    "# MAGIC Vamos analisar:\n",
    "# MAGIC 1. Valores nulos\n",
    "# MAGIC 2. Distribuição dos dados\n",
    "# MAGIC 3. Valores inconsistentes\n",
    "# MAGIC 4. Outliers"
   ]
  },
  {
   "cell_type": "code",
   "execution_count": 0,
   "metadata": {
    "application/vnd.databricks.v1+cell": {
     "cellMetadata": {},
     "inputWidgets": {},
     "nuid": "02928a9f-c5e1-4024-9a83-f8e97e5b956b",
     "showTitle": false,
     "tableResultSettingsMap": {},
     "title": ""
    }
   },
   "outputs": [],
   "source": [
    "# MAGIC %md\n",
    "# MAGIC ## 4. Schema Proposto para Silver Layer"
   ]
  },
  {
   "cell_type": "code",
   "execution_count": 0,
   "metadata": {
    "application/vnd.databricks.v1+cell": {
     "cellMetadata": {
      "byteLimit": 2048000,
      "rowLimit": 10000
     },
     "inputWidgets": {},
     "nuid": "2100eca9-3909-4f16-a86d-2de62de4d00e",
     "showTitle": false,
     "tableResultSettingsMap": {},
     "title": ""
    }
   },
   "outputs": [],
   "source": [
    "from pyspark.sql.types import StructType, StructField, StringType, DoubleType, TimestampType, IntegerType\n",
    "\n",
    "silver_schema = StructType([\n",
    "    # Campos Temporais\n",
    "    StructField(\"pickup_datetime\", TimestampType(), False),\n",
    "    StructField(\"dropoff_datetime\", TimestampType(), False),\n",
    "    StructField(\"trip_duration_seconds\", IntegerType(), True),\n",
    "    StructField(\"hour_of_day\", IntegerType(), True),\n",
    "    StructField(\"day_of_week\", IntegerType(), True),\n",
    "    StructField(\"month\", IntegerType(), True),\n",
    "    \n",
    "    # Localização\n",
    "    StructField(\"pickup_longitude\", DoubleType(), False),\n",
    "    StructField(\"pickup_latitude\", DoubleType(), False),\n",
    "    StructField(\"dropoff_longitude\", DoubleType(), False),\n",
    "    StructField(\"dropoff_latitude\", DoubleType(), False),\n",
    "    StructField(\"calculated_distance_km\", DoubleType(), True),\n",
    "    \n",
    "    # Métricas da Viagem\n",
    "    StructField(\"passenger_count\", IntegerType(), True),\n",
    "    StructField(\"trip_distance\", DoubleType(), True),\n",
    "    \n",
    "    # Valores Monetários\n",
    "    StructField(\"fare_amount\", DoubleType(), True),\n",
    "    StructField(\"extra\", DoubleType(), True),\n",
    "    StructField(\"mta_tax\", DoubleType(), True),\n",
    "    StructField(\"tip_amount\", DoubleType(), True),\n",
    "    StructField(\"tolls_amount\", DoubleType(), True),\n",
    "    StructField(\"improvement_surcharge\", DoubleType(), True),\n",
    "    StructField(\"total_amount\", DoubleType(), True),\n",
    "    \n",
    "    # Metadados\n",
    "    StructField(\"payment_type_id\", IntegerType(), True),\n",
    "    StructField(\"payment_type_desc\", StringType(), True),\n",
    "    StructField(\"rate_code_id\", IntegerType(), True),\n",
    "    StructField(\"store_and_fwd_flag\", StringType(), True),\n",
    "    \n",
    "    # Campos de Controle\n",
    "    StructField(\"ingestion_timestamp\", TimestampType(), True),\n",
    "    StructField(\"source_file\", StringType(), True)\n",
    "])\n",
    "\n",
    "# COMMAND ----------\n",
    "# MAGIC %md\n",
    "# MAGIC ## 5. Próximos Passos\n",
    "# MAGIC \n",
    "# MAGIC 1. **Implementar Pipeline Bronze → Silver:**\n",
    "# MAGIC    - Aplicar transformações identificadas\n",
    "# MAGIC    - Implementar validações de qualidade\n",
    "# MAGIC    - Criar campos derivados\n",
    "# MAGIC \n",
    "# MAGIC 2. **Definir Métricas de Qualidade:**\n",
    "# MAGIC    - % de registros válidos\n",
    "# MAGIC    - % de campos preenchidos\n",
    "# MAGIC    - % de coordenadas válidas"
   ]
  }
 ],
 "metadata": {
  "application/vnd.databricks.v1+notebook": {
   "computePreferences": null,
   "dashboards": [],
   "environmentMetadata": {
    "base_environment": "",
    "environment_version": "2"
   },
   "inputWidgetPreferences": null,
   "language": "python",
   "notebookMetadata": {
    "pythonIndentUnit": 4
   },
   "notebookName": "01_exploratory_analysis",
   "widgets": {}
  },
  "language_info": {
   "name": "python"
  }
 },
 "nbformat": 4,
 "nbformat_minor": 0
}